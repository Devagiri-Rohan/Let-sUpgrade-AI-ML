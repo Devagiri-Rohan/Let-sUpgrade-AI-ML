{
 "cells": [
  {
   "cell_type": "code",
   "execution_count": 1,
   "metadata": {},
   "outputs": [
    {
     "name": "stdout",
     "output_type": "stream",
     "text": [
      "The 20 non even prime natural numbers are: [3, 5, 7, 11, 13, 17, 19, 23, 29, 31, 37, 41, 43, 47, 53, 59, 61, 67, 71, 73, 79]\n"
     ]
    }
   ],
   "source": [
    "a=[]\n",
    "for i in range(3, 80+ 1): \n",
    "    if i > 1: \n",
    "        for n in range(2, i//2 + 2): \n",
    "            if (i% n) == 0: \n",
    "                break\n",
    "            else: \n",
    "                if n == i//2 + 1: \n",
    "                    a.append(i)\n",
    "print(\"The 20 non even prime natural numbers are:\",a)"
   ]
  },
  {
   "cell_type": "code",
   "execution_count": 2,
   "metadata": {},
   "outputs": [
    {
     "name": "stdout",
     "output_type": "stream",
     "text": [
      "Rohan8\n",
      "['8', 'R', 'a', 'h', 'n', 'o']\n",
      "rohan8\n",
      "ROHAN8\n",
      "Rohyn8\n",
      "1\n",
      "True\n",
      "False\n",
      "False\n",
      "True\n",
      "False\n",
      "True\n",
      "rOHAN8\n",
      "6\n",
      "True\n",
      "False\n"
     ]
    }
   ],
   "source": [
    "my_string=\"Rohan8\"\n",
    "print(my_string.strip())\n",
    "print(sorted(my_string))\n",
    "print(my_string.lower())\n",
    "print(my_string.upper())\n",
    "print(my_string.replace(\"a\",\"y\")) \n",
    "print(my_string.count('a'))\n",
    "print(my_string.isalnum())#7\n",
    "print(my_string.isalpha())\n",
    "print(my_string.isdecimal())\n",
    "print(my_string.isidentifier())\n",
    "print(my_string.isnumeric())\n",
    "print(my_string.isprintable())\n",
    "print(my_string.swapcase())\n",
    "print(len(my_string))\n",
    "print(my_string.startswith(\"R\"))\n",
    "print(my_string.endswith('1'))\n"
   ]
  },
  {
   "cell_type": "code",
   "execution_count": 7,
   "metadata": {},
   "outputs": [
    {
     "name": "stdout",
     "output_type": "stream",
     "text": [
      "madam\n",
      "mdaam\n",
      "The given strting s1 is palindrome\n",
      "tThe given strings are anagram\n"
     ]
    }
   ],
   "source": [
    "s1=input()\n",
    "s2=input()\n",
    "if(s1==s1[::-1]):\n",
    "\tprint(\"The given strting s1 is palindrome\")\n",
    "if(sorted(s1)==sorted(s2)):\n",
    "\tprint(\"tThe given strings are anagram\")\n",
    "else:\n",
    "\tprint(\"none\")"
   ]
  },
  {
   "cell_type": "code",
   "execution_count": 4,
   "metadata": {},
   "outputs": [
    {
     "name": "stdout",
     "output_type": "stream",
     "text": [
      "Rohan@8\n",
      "The new string is: rohan8\n"
     ]
    }
   ],
   "source": [
    "def my_function(a):\n",
    "    unwanted_list=['~','`','@','#','$','%','^','&','*','(',')','_','-','=','+','\\',;',':','\"',\"'\"]\n",
    "    for i in a:\n",
    "        if i in unwanted_list:\n",
    "            a=a.replace(i,\"\")\n",
    "    print(\"The new string is:\",a.lower())\n",
    "\n",
    "b=input()\n",
    "my_function(b)\n",
    "    \n",
    "    "
   ]
  }
 ],
 "metadata": {
  "kernelspec": {
   "display_name": "gputest",
   "language": "python",
   "name": "gputest"
  },
  "language_info": {
   "codemirror_mode": {
    "name": "ipython",
    "version": 3
   },
   "file_extension": ".py",
   "mimetype": "text/x-python",
   "name": "python",
   "nbconvert_exporter": "python",
   "pygments_lexer": "ipython3",
   "version": "3.7.7"
  }
 },
 "nbformat": 4,
 "nbformat_minor": 4
}
