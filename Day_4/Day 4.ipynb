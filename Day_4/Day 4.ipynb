{
 "cells": [
  {
   "cell_type": "code",
   "execution_count": null,
   "metadata": {},
   "outputs": [],
   "source": [
    "import cmath\n",
    "x1 = float(input(\"1st real part : \"))\n",
    "y1 = float(input(\"2nd imaginary part : \"))\n",
    "z1 = complex(x1,y1)\n",
    "\n",
    "x2 = float(input(\"1st real part : \"))\n",
    "y2 = float(input(\"2nd imaginary part : \"))\n",
    "z2 = complex(x2,y2)\n",
    "\n",
    "num = float(input(\"number for division in floor div\"))\n",
    "print(\"add = \",z1+z2)\n",
    "print(\"sub = \",z1-z2)\n",
    "print(\"mult = \",z1*z2)\n",
    "print(\"div = \",z1/z2)\n",
    "print(\"floor div = ({}+{}i)\".format(int(z1.real//num),int(z2.imag//num)))\n",
    "print(\"modulo of 1st = \",abs(z1))\n"
   ]
  },
  {
   "cell_type": "markdown",
   "metadata": {},
   "source": [
    "### Range Function\n",
    "range(start,stop,step) = [start,start+step,start+2xstep,.........n]    where (n<= stop)"
   ]
  },
  {
   "cell_type": "code",
   "execution_count": null,
   "metadata": {},
   "outputs": [],
   "source": [
    "st = int(input('number for number table '))\n",
    "for i in range(st,st*11,st):\n",
    "    print(\"{} x {} = {}\".format(st,i//st,i))"
   ]
  },
  {
   "cell_type": "code",
   "execution_count": null,
   "metadata": {},
   "outputs": [],
   "source": [
    "num1 = int(input('1st num : '))\n",
    "num2 = int(input('2nd num : '))\n",
    "\n",
    "if num1 - num2 > 25 :\n",
    "    print(\"multiplication result : \",num1*num2)\n",
    "else :\n",
    "    print(\"division result : \",num1/num2)"
   ]
  },
  {
   "cell_type": "code",
   "execution_count": null,
   "metadata": {},
   "outputs": [],
   "source": [
    "nos = []\n",
    "for i in range(1,11):\n",
    "    numn = int(input(\"{}th num in the list : \".format(i)))\n",
    "    nos.append(numn)\n",
    "print(\"square - 2 of numbers divisible by 2 are :\")\n",
    "for i in nos:\n",
    "    if i%2 == 0 :\n",
    "        print((i**2) - 2)\n",
    "    "
   ]
  },
  {
   "cell_type": "code",
   "execution_count": null,
   "metadata": {},
   "outputs": [],
   "source": [
    "nos = []\n",
    "for i in range(1,11):\n",
    "    numn = int(input(\"{}th num in the list : \".format(i)))\n",
    "    nos.append(numn)\n",
    "print(\"numbers grater than 7 if divided by 2 are :\")\n",
    "for i in nos:\n",
    "    if i/2 > 7 :\n",
    "        print(i)"
   ]
  }
 ],
 "metadata": {
  "kernelspec": {
   "display_name": "Python 3",
   "language": "python",
   "name": "python3"
  },
  "language_info": {
   "codemirror_mode": {
    "name": "ipython",
    "version": 3
   },
   "file_extension": ".py",
   "mimetype": "text/x-python",
   "name": "python",
   "nbconvert_exporter": "python",
   "pygments_lexer": "ipython3",
   "version": "3.7.4"
  }
 },
 "nbformat": 4,
 "nbformat_minor": 4
}
