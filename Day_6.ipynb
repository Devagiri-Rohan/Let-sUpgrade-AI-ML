{
  "nbformat": 4,
  "nbformat_minor": 0,
  "metadata": {
    "colab": {
      "name": "Day_6.ipynb",
      "provenance": []
    },
    "kernelspec": {
      "name": "python3",
      "display_name": "Python 3"
    }
  },
  "cells": [
    {
      "cell_type": "code",
      "metadata": {
        "id": "2s-pbZ4RDEds",
        "colab_type": "code",
        "colab": {
          "base_uri": "https://localhost:8080/",
          "height": 50
        },
        "outputId": "490a5c20-f7f1-4839-e1b1-12767c8650f2"
      },
      "source": [
        "b=input()\n",
        "j=[]\n",
        "k=b.split(\"@\")\n",
        "j.append(k[-1][:-4])\n",
        "listToStr = ' '.join(map(str, j)) \n",
        "print(listToStr)"
      ],
      "execution_count": 8,
      "outputs": [
        {
          "output_type": "stream",
          "text": [
            "hello@letsupgrade\n",
            "letsupg\n"
          ],
          "name": "stdout"
        }
      ]
    },
    {
      "cell_type": "code",
      "metadata": {
        "id": "ei1JdQ94HAm4",
        "colab_type": "code",
        "colab": {
          "base_uri": "https://localhost:8080/",
          "height": 50
        },
        "outputId": "fb3e29e5-c1a1-43ff-dd58-b985b8170977"
      },
      "source": [
        "k=list(map(str,input().split(\",\")))\n",
        "k.sort()\n",
        "listToStr = ','.join(map(str, k))\n",
        "print(listToStr)"
      ],
      "execution_count": 10,
      "outputs": [
        {
          "output_type": "stream",
          "text": [
            "hi,hello,rohan,devagiri\n",
            "devagiri,hello,hi,rohan\n"
          ],
          "name": "stdout"
        }
      ]
    },
    {
      "cell_type": "code",
      "metadata": {
        "id": "_gQvil-CIk0y",
        "colab_type": "code",
        "colab": {}
      },
      "source": [
        "#There's another file named set.ipynb"
      ],
      "execution_count": 12,
      "outputs": []
    },
    {
      "cell_type": "code",
      "metadata": {
        "id": "sCKQlboYMWPK",
        "colab_type": "code",
        "colab": {
          "base_uri": "https://localhost:8080/",
          "height": 50
        },
        "outputId": "0d104293-3465-41a5-fad4-7aa2d359d2ad"
      },
      "source": [
        "input_1= input().split()\n",
        "input_1= list(map(int, input_1))\n",
        "for i in range(1,len(input_1)+1):\n",
        "  if i not in input_1:\n",
        "    print(i)\n",
        "\n"
      ],
      "execution_count": 6,
      "outputs": [
        {
          "output_type": "stream",
          "text": [
            "1 2 3  4 6\n",
            "5\n"
          ],
          "name": "stdout"
        }
      ]
    },
    {
      "cell_type": "code",
      "metadata": {
        "id": "gjgOjpxwMXyG",
        "colab_type": "code",
        "colab": {
          "base_uri": "https://localhost:8080/",
          "height": 50
        },
        "outputId": "d1508fcb-fca3-4f03-c2b6-0e009e61de66"
      },
      "source": [
        "L = set(map(int, input().split()))\n",
        "for i in sorted(L):\n",
        "    print(i,end=\" \")"
      ],
      "execution_count": 11,
      "outputs": [
        {
          "output_type": "stream",
          "text": [
            "12 24 35 24 88 120 155 88 120 155\n",
            "12 24 35 88 120 155 "
          ],
          "name": "stdout"
        }
      ]
    },
    {
      "cell_type": "code",
      "metadata": {
        "id": "N9978BwhOF72",
        "colab_type": "code",
        "colab": {}
      },
      "source": [
        ""
      ],
      "execution_count": null,
      "outputs": []
    }
  ]
}